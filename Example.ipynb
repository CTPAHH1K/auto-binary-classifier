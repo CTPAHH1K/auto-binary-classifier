{
 "cells": [
  {
   "cell_type": "code",
   "execution_count": 1,
   "metadata": {},
   "outputs": [],
   "source": [
    "from automl.binary_classifier import BinaryClassifier\n",
    "\n",
    "from sklearn.datasets import make_classification\n",
    "from sklearn.model_selection import train_test_split\n",
    "from sklearn.metrics import roc_auc_score\n",
    "import pandas as pd\n",
    "import numpy as np"
   ]
  },
  {
   "cell_type": "code",
   "execution_count": 2,
   "metadata": {},
   "outputs": [],
   "source": [
    "cls = BinaryClassifier()  "
   ]
  },
  {
   "cell_type": "code",
   "execution_count": 3,
   "metadata": {},
   "outputs": [],
   "source": [
    "X, y = make_classification(n_samples=1000, n_features=20, n_redundant = 0, n_informative=20,\n",
    "                           n_classes=2, n_clusters_per_class=1, random_state=0)"
   ]
  },
  {
   "cell_type": "code",
   "execution_count": 4,
   "metadata": {},
   "outputs": [],
   "source": [
    "X_train, X_test, y_train, y_test = train_test_split(X, y, test_size=0.2, random_state=42)"
   ]
  },
  {
   "cell_type": "code",
   "execution_count": 5,
   "metadata": {
    "scrolled": false
   },
   "outputs": [
    {
     "name": "stdout",
     "output_type": "stream",
     "text": [
      "[Parallel(n_jobs=-1)]: Using backend MultiprocessingBackend with 20 concurrent workers.\n",
      "[Parallel(n_jobs=-1)]: Done   1 out of  11 | elapsed:    3.3s remaining:   34.0s\n",
      "[Parallel(n_jobs=-1)]: Done   2 out of  11 | elapsed:    3.3s remaining:   15.3s\n",
      "[Parallel(n_jobs=-1)]: Done   3 out of  11 | elapsed:    4.4s remaining:   12.0s\n",
      "[Parallel(n_jobs=-1)]: Done   4 out of  11 | elapsed:    5.6s remaining:    9.8s\n",
      "[Parallel(n_jobs=-1)]: Done   5 out of  11 | elapsed:    7.3s remaining:    8.7s\n",
      "[Parallel(n_jobs=-1)]: Done   6 out of  11 | elapsed:    7.9s remaining:    6.6s\n",
      "[Parallel(n_jobs=-1)]: Done   7 out of  11 | elapsed:    9.0s remaining:    5.1s\n",
      "[Parallel(n_jobs=-1)]: Done   8 out of  11 | elapsed:   11.0s remaining:    4.1s\n",
      "[Parallel(n_jobs=-1)]: Done   9 out of  11 | elapsed:   11.4s remaining:    2.5s\n",
      "[Parallel(n_jobs=-1)]: Done  11 out of  11 | elapsed:   13.7s remaining:    0.0s\n",
      "[Parallel(n_jobs=-1)]: Done  11 out of  11 | elapsed:   13.7s finished\n",
      "[Parallel(n_jobs=-1)]: Using backend MultiprocessingBackend with 20 concurrent workers.\n",
      "[Parallel(n_jobs=-1)]: Done   1 out of  11 | elapsed:    1.4s remaining:   14.4s\n",
      "[Parallel(n_jobs=-1)]: Done   2 out of  11 | elapsed:    2.5s remaining:   11.5s\n",
      "[Parallel(n_jobs=-1)]: Done   3 out of  11 | elapsed:    3.6s remaining:    9.7s\n",
      "[Parallel(n_jobs=-1)]: Done   4 out of  11 | elapsed:    4.7s remaining:    8.3s\n",
      "[Parallel(n_jobs=-1)]: Done   5 out of  11 | elapsed:    5.8s remaining:    7.0s\n",
      "[Parallel(n_jobs=-1)]: Done   6 out of  11 | elapsed:    7.0s remaining:    5.8s\n",
      "[Parallel(n_jobs=-1)]: Done   7 out of  11 | elapsed:    8.1s remaining:    4.6s\n",
      "[Parallel(n_jobs=-1)]: Done   8 out of  11 | elapsed:    9.2s remaining:    3.4s\n",
      "[Parallel(n_jobs=-1)]: Done   9 out of  11 | elapsed:   10.3s remaining:    2.2s\n",
      "[Parallel(n_jobs=-1)]: Done  11 out of  11 | elapsed:   12.6s remaining:    0.0s\n",
      "[Parallel(n_jobs=-1)]: Done  11 out of  11 | elapsed:   12.6s finished\n",
      "Fit done, best model: QDA with score ROCAUC: 0.9928571428571429\n"
     ]
    }
   ],
   "source": [
    "cls.fit(X_train, y_train)"
   ]
  },
  {
   "cell_type": "code",
   "execution_count": 6,
   "metadata": {},
   "outputs": [
    {
     "data": {
      "text/plain": [
       "QuadraticDiscriminantAnalysis()"
      ]
     },
     "execution_count": 6,
     "metadata": {},
     "output_type": "execute_result"
    }
   ],
   "source": [
    "cls.best_model"
   ]
  },
  {
   "cell_type": "code",
   "execution_count": 7,
   "metadata": {},
   "outputs": [
    {
     "data": {
      "text/plain": [
       "{'CatBoostClassifier': 0.9412698412698414,\n",
       " 'Nearest Neighbors': 0.9484126984126985,\n",
       " 'Linear SVM': 0.8992063492063492,\n",
       " 'RBF SVM': 0.5,\n",
       " 'Gaussian Process': 0.5,\n",
       " 'Decision Tree': 0.7793650793650794,\n",
       " 'Random Forest': 0.8246031746031746,\n",
       " 'Neural Net': 0.9484126984126985,\n",
       " 'AdaBoost': 0.8833333333333333,\n",
       " 'Naive Bayes': 0.8857142857142858,\n",
       " 'QDA': 0.9928571428571429}"
      ]
     },
     "execution_count": 7,
     "metadata": {},
     "output_type": "execute_result"
    }
   ],
   "source": [
    "cls.models_score"
   ]
  },
  {
   "cell_type": "code",
   "execution_count": 8,
   "metadata": {},
   "outputs": [
    {
     "data": {
      "text/plain": [
       "array([1, 0, 0, 1, 1, 0, 0, 1, 0, 1, 0, 0, 1, 0, 0, 1, 0, 0, 1, 0, 1, 1,\n",
       "       1, 1, 1, 0, 0, 1, 0, 1, 1, 0, 1, 1, 0, 1, 1, 0, 1, 0, 0, 1, 1, 1,\n",
       "       0, 1, 1, 1, 1, 1, 1, 0, 0, 0, 0, 0, 0, 1, 0, 1, 0, 0, 0, 1, 1, 1,\n",
       "       0, 0, 0, 1, 0, 1, 0, 1, 1, 1, 1, 1, 0, 1, 1, 0, 1, 1, 1, 0, 0, 1,\n",
       "       1, 1, 0, 1, 0, 1, 0, 1, 1, 1, 1, 1, 0, 0, 0, 1, 1, 0, 1, 0, 0, 0,\n",
       "       0, 1, 1, 0, 1, 0, 0, 1, 1, 1, 1, 0, 0, 1, 0, 1, 1, 1, 0, 0, 0, 0,\n",
       "       0, 1, 1, 0, 1, 1, 0, 1, 0, 1, 0, 1, 1, 0, 0, 0, 0, 1, 0, 0, 1, 0,\n",
       "       0, 0, 1, 0, 1, 0, 0, 1, 1, 0, 0, 0, 1, 0, 1, 0, 0, 0, 0, 0, 0, 0,\n",
       "       0, 1, 0, 1, 1, 0, 1, 0, 0, 1, 0, 1, 0, 1, 0, 0, 1, 1, 0, 0, 0, 0,\n",
       "       1, 1])"
      ]
     },
     "execution_count": 8,
     "metadata": {},
     "output_type": "execute_result"
    }
   ],
   "source": [
    "cls.predict(X_test)"
   ]
  },
  {
   "cell_type": "code",
   "execution_count": 9,
   "metadata": {},
   "outputs": [
    {
     "data": {
      "text/plain": [
       "array([1.00000000e+000, 4.61842921e-055, 8.71470885e-049, 1.00000000e+000,\n",
       "       1.00000000e+000, 1.80759836e-040, 1.16706671e-024, 1.00000000e+000,\n",
       "       4.11232727e-026, 1.00000000e+000, 1.13110837e-033, 9.05514962e-034,\n",
       "       1.00000000e+000, 1.12920160e-010, 2.74807989e-043, 1.00000000e+000,\n",
       "       2.13573793e-071, 1.16224431e-026, 1.00000000e+000, 2.30075727e-177,\n",
       "       1.00000000e+000, 1.00000000e+000, 1.00000000e+000, 9.99999950e-001,\n",
       "       1.00000000e+000, 3.59462058e-056, 4.84634497e-200, 1.00000000e+000,\n",
       "       3.38609729e-036, 1.00000000e+000, 1.00000000e+000, 2.04401624e-031,\n",
       "       1.00000000e+000, 1.00000000e+000, 1.36194124e-025, 1.00000000e+000,\n",
       "       1.00000000e+000, 1.52021913e-057, 1.00000000e+000, 3.29255016e-038,\n",
       "       1.74955735e-064, 9.99927587e-001, 9.99999995e-001, 1.00000000e+000,\n",
       "       2.41620293e-025, 1.00000000e+000, 1.00000000e+000, 1.00000000e+000,\n",
       "       1.00000000e+000, 9.99999998e-001, 9.99733322e-001, 4.41599600e-032,\n",
       "       3.83126868e-062, 1.69304434e-032, 3.55195736e-014, 1.12641933e-035,\n",
       "       2.73675443e-015, 1.00000000e+000, 7.37654610e-017, 1.00000000e+000,\n",
       "       2.30482911e-075, 8.77071047e-022, 1.39399013e-003, 9.99999997e-001,\n",
       "       1.00000000e+000, 1.00000000e+000, 3.86105166e-186, 6.59927010e-147,\n",
       "       8.58076870e-061, 9.99999996e-001, 1.42686876e-048, 1.00000000e+000,\n",
       "       3.01931664e-068, 1.00000000e+000, 1.00000000e+000, 1.00000000e+000,\n",
       "       1.00000000e+000, 1.00000000e+000, 1.97274123e-065, 1.00000000e+000,\n",
       "       1.00000000e+000, 1.40697085e-046, 1.00000000e+000, 1.00000000e+000,\n",
       "       1.00000000e+000, 1.76836860e-045, 3.91374692e-035, 1.00000000e+000,\n",
       "       8.88599437e-001, 1.00000000e+000, 3.34282829e-075, 1.00000000e+000,\n",
       "       1.04545845e-059, 1.00000000e+000, 7.78206479e-075, 1.00000000e+000,\n",
       "       1.00000000e+000, 1.00000000e+000, 1.00000000e+000, 1.00000000e+000,\n",
       "       1.66255252e-058, 1.65348521e-086, 2.67477046e-044, 1.00000000e+000,\n",
       "       1.00000000e+000, 1.12632648e-010, 1.00000000e+000, 9.67889173e-182,\n",
       "       3.39749119e-030, 8.96456883e-012, 5.37353521e-065, 1.00000000e+000,\n",
       "       1.00000000e+000, 1.29064486e-038, 1.00000000e+000, 1.30184975e-055,\n",
       "       5.49233036e-045, 1.00000000e+000, 1.00000000e+000, 1.00000000e+000,\n",
       "       1.00000000e+000, 4.54033441e-050, 1.14079540e-021, 1.00000000e+000,\n",
       "       8.26997510e-089, 1.00000000e+000, 1.00000000e+000, 1.00000000e+000,\n",
       "       8.52914110e-019, 0.00000000e+000, 2.40408313e-032, 5.83160201e-167,\n",
       "       5.81122697e-065, 1.00000000e+000, 1.00000000e+000, 3.54941370e-062,\n",
       "       1.00000000e+000, 1.00000000e+000, 1.05524793e-081, 1.00000000e+000,\n",
       "       6.34674937e-013, 1.00000000e+000, 7.57474085e-047, 9.99993294e-001,\n",
       "       1.00000000e+000, 1.35572875e-125, 6.40399470e-157, 3.15857934e-255,\n",
       "       1.41689569e-010, 1.00000000e+000, 9.63728179e-047, 2.17351855e-085,\n",
       "       1.00000000e+000, 5.36954058e-237, 2.16220505e-072, 8.99106094e-025,\n",
       "       1.00000000e+000, 1.11896918e-062, 1.00000000e+000, 9.11632732e-063,\n",
       "       1.88910679e-010, 1.00000000e+000, 1.00000000e+000, 1.65466104e-036,\n",
       "       1.18245548e-037, 1.37736234e-077, 1.00000000e+000, 3.22234256e-073,\n",
       "       1.00000000e+000, 9.18635656e-015, 3.43840775e-142, 1.35871715e-041,\n",
       "       6.29126714e-029, 2.07242056e-004, 3.33207863e-019, 2.99652388e-067,\n",
       "       4.09456888e-098, 1.00000000e+000, 3.75824014e-059, 1.00000000e+000,\n",
       "       1.00000000e+000, 3.69004853e-006, 1.00000000e+000, 8.47040028e-085,\n",
       "       2.68049684e-033, 1.00000000e+000, 1.00714993e-191, 1.00000000e+000,\n",
       "       4.85504534e-056, 1.00000000e+000, 8.44521643e-169, 7.94979748e-051,\n",
       "       9.99981449e-001, 1.00000000e+000, 8.08636008e-170, 8.65195836e-022,\n",
       "       1.74128186e-004, 1.09795628e-092, 1.00000000e+000, 9.99999518e-001])"
      ]
     },
     "execution_count": 9,
     "metadata": {},
     "output_type": "execute_result"
    }
   ],
   "source": [
    "cls.predict_proba(X_test)[:,1].reshape(-1)"
   ]
  },
  {
   "cell_type": "code",
   "execution_count": 10,
   "metadata": {},
   "outputs": [
    {
     "data": {
      "text/plain": [
       "0.994949494949495"
      ]
     },
     "execution_count": 10,
     "metadata": {},
     "output_type": "execute_result"
    }
   ],
   "source": [
    "roc_auc_score(y_test, cls.predict(X_test))"
   ]
  }
 ],
 "metadata": {
  "kernelspec": {
   "display_name": "Python 3",
   "language": "python",
   "name": "python3"
  },
  "language_info": {
   "codemirror_mode": {
    "name": "ipython",
    "version": 3
   },
   "file_extension": ".py",
   "mimetype": "text/x-python",
   "name": "python",
   "nbconvert_exporter": "python",
   "pygments_lexer": "ipython3",
   "version": "3.8.5"
  }
 },
 "nbformat": 4,
 "nbformat_minor": 4
}
