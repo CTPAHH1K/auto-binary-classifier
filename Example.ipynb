{
 "cells": [
  {
   "cell_type": "markdown",
   "metadata": {},
   "source": [
    "# This notebook shows example usage of auto binary classification lib"
   ]
  },
  {
   "cell_type": "code",
   "execution_count": 1,
   "metadata": {},
   "outputs": [],
   "source": [
    "# !pip install automl-pn==0.1.3\n",
    "from automl_pn.binary_classifier import BinaryClassifier\n",
    "\n",
    "from sklearn.datasets import make_classification\n",
    "from sklearn.model_selection import train_test_split\n",
    "from sklearn.metrics import classification_report\n",
    "import pandas as pd\n",
    "import numpy as np"
   ]
  },
  {
   "cell_type": "markdown",
   "metadata": {},
   "source": [
    "**Load/make dataset**"
   ]
  },
  {
   "cell_type": "code",
   "execution_count": 2,
   "metadata": {},
   "outputs": [],
   "source": [
    "X, y = make_classification(n_samples=1000, n_features=25, n_redundant = 5, n_informative=20,\n",
    "                           n_classes=2, n_clusters_per_class=1, random_state=0)"
   ]
  },
  {
   "cell_type": "markdown",
   "metadata": {},
   "source": [
    "**Optionaly split it to test/train**"
   ]
  },
  {
   "cell_type": "code",
   "execution_count": 3,
   "metadata": {},
   "outputs": [],
   "source": [
    "X_train, X_test, y_train, y_test = train_test_split(X, y, test_size=0.2, random_state=42)"
   ]
  },
  {
   "cell_type": "markdown",
   "metadata": {},
   "source": [
    "**Create classifier instance (you can check availdable params in docs)**"
   ]
  },
  {
   "cell_type": "code",
   "execution_count": 4,
   "metadata": {},
   "outputs": [],
   "source": [
    "cls = BinaryClassifier(metric='roc_auc')  "
   ]
  },
  {
   "cell_type": "markdown",
   "metadata": {},
   "source": [
    "**Fit**"
   ]
  },
  {
   "cell_type": "code",
   "execution_count": 5,
   "metadata": {
    "scrolled": false
   },
   "outputs": [
    {
     "name": "stdout",
     "output_type": "stream",
     "text": [
      "[Parallel(n_jobs=-1)]: Using backend MultiprocessingBackend with 20 concurrent workers.\n",
      "[Parallel(n_jobs=-1)]: Done   1 out of  12 | elapsed:   15.1s remaining:  2.8min\n",
      "[Parallel(n_jobs=-1)]: Done   2 out of  12 | elapsed:   15.9s remaining:  1.3min\n",
      "[Parallel(n_jobs=-1)]: Done   3 out of  12 | elapsed:   22.0s remaining:  1.1min\n",
      "[Parallel(n_jobs=-1)]: Done   4 out of  12 | elapsed:   26.4s remaining:   52.9s\n",
      "[Parallel(n_jobs=-1)]: Done   5 out of  12 | elapsed:   35.4s remaining:   49.6s\n",
      "[Parallel(n_jobs=-1)]: Done   6 out of  12 | elapsed:   35.5s remaining:   35.5s\n",
      "[Parallel(n_jobs=-1)]: Done   7 out of  12 | elapsed:   36.2s remaining:   25.8s\n",
      "[Parallel(n_jobs=-1)]: Done   8 out of  12 | elapsed:   36.6s remaining:   18.2s\n",
      "[Parallel(n_jobs=-1)]: Done   9 out of  12 | elapsed:   40.4s remaining:   13.4s\n",
      "[Parallel(n_jobs=-1)]: Done  10 out of  12 | elapsed:   41.1s remaining:    8.1s\n",
      "[Parallel(n_jobs=-1)]: Done  12 out of  12 | elapsed:   42.1s remaining:    0.0s\n",
      "[Parallel(n_jobs=-1)]: Done  12 out of  12 | elapsed:   42.1s finished\n",
      "[Parallel(n_jobs=-1)]: Using backend MultiprocessingBackend with 20 concurrent workers.\n",
      "[Parallel(n_jobs=-1)]: Done   1 out of  12 | elapsed:    1.5s remaining:   17.0s\n",
      "[Parallel(n_jobs=-1)]: Done   2 out of  12 | elapsed:    2.6s remaining:   13.3s\n",
      "[Parallel(n_jobs=-1)]: Done   3 out of  12 | elapsed:    3.9s remaining:   11.9s\n",
      "[Parallel(n_jobs=-1)]: Done   4 out of  12 | elapsed:    5.0s remaining:   10.1s\n",
      "[Parallel(n_jobs=-1)]: Done   5 out of  12 | elapsed:    6.2s remaining:    8.7s\n",
      "[Parallel(n_jobs=-1)]: Done   6 out of  12 | elapsed:    7.3s remaining:    7.3s\n",
      "[Parallel(n_jobs=-1)]: Done   7 out of  12 | elapsed:    8.4s remaining:    6.0s\n",
      "[Parallel(n_jobs=-1)]: Done   8 out of  12 | elapsed:    9.6s remaining:    4.7s\n",
      "[Parallel(n_jobs=-1)]: Done   9 out of  12 | elapsed:   10.7s remaining:    3.5s\n",
      "[Parallel(n_jobs=-1)]: Done  10 out of  12 | elapsed:   11.9s remaining:    2.3s\n",
      "[Parallel(n_jobs=-1)]: Done  12 out of  12 | elapsed:   14.2s remaining:    0.0s\n",
      "[Parallel(n_jobs=-1)]: Done  12 out of  12 | elapsed:   14.2s finished\n",
      "Fit done, best model: CatBoostClassifier with score roc_auc: 0.931161118924832\n"
     ]
    }
   ],
   "source": [
    "cls.fit(X_train, y_train)"
   ]
  },
  {
   "cell_type": "markdown",
   "metadata": {},
   "source": [
    "**Predict**"
   ]
  },
  {
   "cell_type": "code",
   "execution_count": 6,
   "metadata": {
    "scrolled": true
   },
   "outputs": [
    {
     "data": {
      "text/plain": [
       "array([0, 1, 0, 1, 1, 1, 1, 0, 0, 0, 1, 1, 1, 0, 1, 0, 1, 0, 1, 1, 1, 1,\n",
       "       1, 0, 1, 1, 0, 1, 1, 1, 1, 1, 1, 1, 0, 0, 0, 1, 0, 1, 1, 1, 0, 1,\n",
       "       0, 0, 1, 0, 0, 1, 1, 0, 1, 0, 0, 0, 1, 1, 0, 0, 1, 0, 1, 0, 0, 1,\n",
       "       1, 0, 0, 1, 1, 1, 0, 0, 0, 0, 1, 0, 0, 1, 0, 1, 1, 1, 1, 1, 0, 0,\n",
       "       1, 0, 1, 0, 0, 0, 0, 0, 1, 1, 1, 0, 1, 0, 0, 1, 0, 1, 1, 0, 0, 0,\n",
       "       0, 0, 0, 0, 1, 0, 0, 1, 1, 1, 0, 0, 1, 0, 1, 1, 1, 0, 1, 1, 1, 0,\n",
       "       1, 1, 1, 1, 0, 1, 0, 0, 1, 1, 0, 0, 0, 1, 1, 1, 0, 0, 0, 0, 1, 0,\n",
       "       1, 0, 1, 1, 1, 1, 0, 0, 1, 0, 1, 0, 1, 1, 0, 1, 0, 1, 0, 0, 1, 0,\n",
       "       0, 1, 0, 0, 1, 1, 1, 0, 0, 0, 0, 0, 0, 0, 1, 0, 1, 1, 0, 1, 0, 1,\n",
       "       0, 1], dtype=int64)"
      ]
     },
     "execution_count": 6,
     "metadata": {},
     "output_type": "execute_result"
    }
   ],
   "source": [
    "cls.predict(X_test)"
   ]
  },
  {
   "cell_type": "code",
   "execution_count": 7,
   "metadata": {},
   "outputs": [
    {
     "data": {
      "text/plain": [
       "array([0.38341786, 0.9609645 , 0.0110818 , 0.82318462, 0.97697142,\n",
       "       0.92453127, 0.79868153, 0.02375711, 0.01596364, 0.01314334,\n",
       "       0.9736499 , 0.70950239, 0.81677857, 0.12732937, 0.96653539,\n",
       "       0.00852472, 0.94823861, 0.20382568, 0.91945591, 0.98796377,\n",
       "       0.96737098, 0.92993095, 0.97905196, 0.02047091, 0.98433438,\n",
       "       0.92029294, 0.29086089, 0.8466406 , 0.97834811, 0.97876439,\n",
       "       0.61071294, 0.93517268, 0.77295865, 0.94816278, 0.08124   ,\n",
       "       0.38064044, 0.06842935, 0.92769078, 0.0163628 , 0.99065491,\n",
       "       0.90009463, 0.56807794, 0.01805846, 0.62270024, 0.02783804,\n",
       "       0.01118544, 0.90552341, 0.01586985, 0.03922581, 0.81817642,\n",
       "       0.99557259, 0.00492311, 0.9830045 , 0.1524079 , 0.07887718,\n",
       "       0.12175741, 0.66456967, 0.98470174, 0.01251034, 0.01914846,\n",
       "       0.58861822, 0.17976004, 0.92038291, 0.01277547, 0.44533397,\n",
       "       0.97365288, 0.65238791, 0.18651193, 0.1015901 , 0.99515655,\n",
       "       0.52845915, 0.91090072, 0.04634121, 0.07200316, 0.01411418,\n",
       "       0.02295905, 0.89812395, 0.01819205, 0.02139519, 0.8276787 ,\n",
       "       0.02587646, 0.63482794, 0.89906898, 0.95285289, 0.98328859,\n",
       "       0.99068664, 0.16701433, 0.03613536, 0.97856126, 0.03876354,\n",
       "       0.97522014, 0.04839124, 0.03291112, 0.0189631 , 0.12612436,\n",
       "       0.03271395, 0.90890263, 0.98972818, 0.96431403, 0.0348994 ,\n",
       "       0.9910357 , 0.05943031, 0.01964496, 0.75705882, 0.03351376,\n",
       "       0.96381547, 0.99434021, 0.11944153, 0.03775862, 0.1947454 ,\n",
       "       0.00766083, 0.09041549, 0.01299014, 0.02170266, 0.98780492,\n",
       "       0.06086689, 0.17745443, 0.95172161, 0.88018776, 0.55558583,\n",
       "       0.01938212, 0.1059254 , 0.79254342, 0.49584035, 0.82306154,\n",
       "       0.98303554, 0.94888989, 0.01567251, 0.89329353, 0.59253245,\n",
       "       0.92213906, 0.0479832 , 0.60450538, 0.98641152, 0.67557388,\n",
       "       0.97514334, 0.15331325, 0.99150878, 0.27125832, 0.01845285,\n",
       "       0.74166504, 0.64650902, 0.04015258, 0.01453693, 0.08480199,\n",
       "       0.97366424, 0.9576039 , 0.97558098, 0.25413342, 0.0945159 ,\n",
       "       0.09731081, 0.21306802, 0.97613245, 0.0328616 , 0.94535051,\n",
       "       0.30939993, 0.97675754, 0.53684418, 0.90344141, 0.95074393,\n",
       "       0.29698959, 0.05647622, 0.89949488, 0.01860934, 0.95569333,\n",
       "       0.15537757, 0.89858968, 0.98564876, 0.00938795, 0.92177246,\n",
       "       0.028904  , 0.95555979, 0.02760727, 0.33267603, 0.97869858,\n",
       "       0.03493071, 0.29421137, 0.52461257, 0.23968912, 0.01135774,\n",
       "       0.94668562, 0.99358401, 0.95884589, 0.29371265, 0.3386031 ,\n",
       "       0.0736923 , 0.14686378, 0.07707495, 0.01051513, 0.14962499,\n",
       "       0.93857661, 0.18131918, 0.89858202, 0.97128103, 0.01275286,\n",
       "       0.99211484, 0.40205673, 0.63274548, 0.02986055, 0.60124013])"
      ]
     },
     "execution_count": 7,
     "metadata": {},
     "output_type": "execute_result"
    }
   ],
   "source": [
    "cls.predict_proba(X_test)[:,1].reshape(-1)"
   ]
  },
  {
   "cell_type": "code",
   "execution_count": 8,
   "metadata": {},
   "outputs": [
    {
     "name": "stdout",
     "output_type": "stream",
     "text": [
      "              precision    recall  f1-score   support\n",
      "\n",
      "           0       0.94      0.97      0.95        95\n",
      "           1       0.97      0.94      0.96       105\n",
      "\n",
      "    accuracy                           0.95       200\n",
      "   macro avg       0.95      0.96      0.95       200\n",
      "weighted avg       0.96      0.95      0.96       200\n",
      "\n"
     ]
    }
   ],
   "source": [
    "print(classification_report(y_test, cls.predict(X_test)))"
   ]
  },
  {
   "cell_type": "code",
   "execution_count": 9,
   "metadata": {},
   "outputs": [
    {
     "data": {
      "text/plain": [
       "{'CatBoostClassifier': 0.931161118924832,\n",
       " 'LGBMClassifier': 0.8999843725582122,\n",
       " 'Nearest Neighbors': 0.6448663853727145,\n",
       " 'Linear SVM': 0.6241600250039068,\n",
       " 'RBF SVM': 0.5,\n",
       " 'Gaussian Process': 0.5,\n",
       " 'Decision Tree': 0.8066104078762306,\n",
       " 'Random Forest': 0.5872792623847476,\n",
       " 'Neural Net': 0.7184716361931552,\n",
       " 'AdaBoost': 0.8876386935458666,\n",
       " 'Naive Bayes': 0.6423659946866698,\n",
       " 'QDA': 0.5832942647288639}"
      ]
     },
     "execution_count": 9,
     "metadata": {},
     "output_type": "execute_result"
    }
   ],
   "source": [
    "cls.models_score"
   ]
  },
  {
   "cell_type": "code",
   "execution_count": 10,
   "metadata": {},
   "outputs": [
    {
     "data": {
      "text/plain": [
       "<catboost.core.CatBoostClassifier at 0x24f2075f3d0>"
      ]
     },
     "execution_count": 10,
     "metadata": {},
     "output_type": "execute_result"
    }
   ],
   "source": [
    "cls.best_model"
   ]
  },
  {
   "cell_type": "markdown",
   "metadata": {},
   "source": [
    "**For some datasets (synthetic mostly) and models data preprocessing could make predictions worse, you can disable it**"
   ]
  },
  {
   "cell_type": "code",
   "execution_count": 11,
   "metadata": {},
   "outputs": [],
   "source": [
    "cls = BinaryClassifier(metric='roc_auc', preprocess_data=False)  "
   ]
  },
  {
   "cell_type": "markdown",
   "metadata": {},
   "source": [
    "**Fit**"
   ]
  },
  {
   "cell_type": "code",
   "execution_count": 12,
   "metadata": {
    "scrolled": false
   },
   "outputs": [
    {
     "name": "stdout",
     "output_type": "stream",
     "text": [
      "[Parallel(n_jobs=-1)]: Using backend MultiprocessingBackend with 20 concurrent workers.\n",
      "[Parallel(n_jobs=-1)]: Done   1 out of  12 | elapsed:    3.5s remaining:   39.9s\n",
      "[Parallel(n_jobs=-1)]: Done   2 out of  12 | elapsed:    3.6s remaining:   18.2s\n",
      "[Parallel(n_jobs=-1)]: Done   3 out of  12 | elapsed:    4.6s remaining:   14.0s\n",
      "[Parallel(n_jobs=-1)]: Done   4 out of  12 | elapsed:    5.7s remaining:   11.6s\n",
      "[Parallel(n_jobs=-1)]: Done   5 out of  12 | elapsed:    6.9s remaining:    9.7s\n",
      "[Parallel(n_jobs=-1)]: Done   6 out of  12 | elapsed:    8.7s remaining:    8.7s\n",
      "[Parallel(n_jobs=-1)]: Done   7 out of  12 | elapsed:    9.2s remaining:    6.6s\n",
      "[Parallel(n_jobs=-1)]: Done   8 out of  12 | elapsed:   10.4s remaining:    5.1s\n",
      "[Parallel(n_jobs=-1)]: Done   9 out of  12 | elapsed:   12.6s remaining:    4.1s\n",
      "[Parallel(n_jobs=-1)]: Done  10 out of  12 | elapsed:   12.9s remaining:    2.5s\n",
      "[Parallel(n_jobs=-1)]: Done  12 out of  12 | elapsed:   15.1s remaining:    0.0s\n",
      "[Parallel(n_jobs=-1)]: Done  12 out of  12 | elapsed:   15.1s finished\n",
      "[Parallel(n_jobs=-1)]: Using backend MultiprocessingBackend with 20 concurrent workers.\n",
      "[Parallel(n_jobs=-1)]: Done   1 out of  12 | elapsed:    1.4s remaining:   16.5s\n",
      "[Parallel(n_jobs=-1)]: Done   2 out of  12 | elapsed:    2.6s remaining:   13.2s\n",
      "[Parallel(n_jobs=-1)]: Done   3 out of  12 | elapsed:    3.7s remaining:   11.4s\n",
      "[Parallel(n_jobs=-1)]: Done   4 out of  12 | elapsed:    4.9s remaining:    9.8s\n",
      "[Parallel(n_jobs=-1)]: Done   5 out of  12 | elapsed:    6.0s remaining:    8.5s\n",
      "[Parallel(n_jobs=-1)]: Done   6 out of  12 | elapsed:    7.2s remaining:    7.2s\n",
      "[Parallel(n_jobs=-1)]: Done   7 out of  12 | elapsed:    8.3s remaining:    5.9s\n",
      "[Parallel(n_jobs=-1)]: Done   8 out of  12 | elapsed:    9.5s remaining:    4.7s\n",
      "[Parallel(n_jobs=-1)]: Done   9 out of  12 | elapsed:   10.7s remaining:    3.5s\n",
      "[Parallel(n_jobs=-1)]: Done  10 out of  12 | elapsed:   11.8s remaining:    2.3s\n",
      "[Parallel(n_jobs=-1)]: Done  12 out of  12 | elapsed:   14.1s remaining:    0.0s\n",
      "[Parallel(n_jobs=-1)]: Done  12 out of  12 | elapsed:   14.1s finished\n",
      "Fit done, best model: QDA with score roc_auc: 0.9938271604938271\n"
     ]
    }
   ],
   "source": [
    "cls.fit(X_train, y_train)"
   ]
  },
  {
   "cell_type": "markdown",
   "metadata": {},
   "source": [
    "**Predict**"
   ]
  },
  {
   "cell_type": "code",
   "execution_count": 13,
   "metadata": {},
   "outputs": [
    {
     "name": "stdout",
     "output_type": "stream",
     "text": [
      "              precision    recall  f1-score   support\n",
      "\n",
      "           0       0.99      1.00      0.99        95\n",
      "           1       1.00      0.99      1.00       105\n",
      "\n",
      "    accuracy                           0.99       200\n",
      "   macro avg       0.99      1.00      0.99       200\n",
      "weighted avg       1.00      0.99      1.00       200\n",
      "\n"
     ]
    }
   ],
   "source": [
    "print(classification_report(y_test, cls.predict(X_test)))"
   ]
  },
  {
   "cell_type": "code",
   "execution_count": 14,
   "metadata": {},
   "outputs": [
    {
     "data": {
      "text/plain": [
       "{'CatBoostClassifier': 0.90014064697609,\n",
       " 'LGBMClassifier': 0.90014064697609,\n",
       " 'Nearest Neighbors': 0.8756055633692765,\n",
       " 'Linear SVM': 0.8559931239256133,\n",
       " 'RBF SVM': 0.5,\n",
       " 'Gaussian Process': 0.8506016565088295,\n",
       " 'Decision Tree': 0.7126113455227379,\n",
       " 'Random Forest': 0.7746522894202219,\n",
       " 'Neural Net': 0.925144553836537,\n",
       " 'AdaBoost': 0.8189560868885764,\n",
       " 'Naive Bayes': 0.8681825285200813,\n",
       " 'QDA': 0.9938271604938271}"
      ]
     },
     "execution_count": 14,
     "metadata": {},
     "output_type": "execute_result"
    }
   ],
   "source": [
    "cls.models_score"
   ]
  },
  {
   "cell_type": "code",
   "execution_count": null,
   "metadata": {},
   "outputs": [],
   "source": []
  }
 ],
 "metadata": {
  "kernelspec": {
   "display_name": "Python 3",
   "language": "python",
   "name": "python3"
  },
  "language_info": {
   "codemirror_mode": {
    "name": "ipython",
    "version": 3
   },
   "file_extension": ".py",
   "mimetype": "text/x-python",
   "name": "python",
   "nbconvert_exporter": "python",
   "pygments_lexer": "ipython3",
   "version": "3.8.5"
  }
 },
 "nbformat": 4,
 "nbformat_minor": 4
}
